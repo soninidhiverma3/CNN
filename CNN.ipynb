{
 "cells": [
  {
   "cell_type": "code",
   "execution_count": 77,
   "id": "3a5104b6",
   "metadata": {},
   "outputs": [],
   "source": [
    "# Import Basic Libraries\n",
    "import numpy as np\n",
    "import pandas as pd\n",
    "import sklearn\n",
    "from sklearn.model_selection import train_test_split\n",
    "import matplotlib.pyplot as plt"
   ]
  },
  {
   "cell_type": "code",
   "execution_count": 78,
   "id": "f23298ce",
   "metadata": {},
   "outputs": [],
   "source": [
    "# Read The Data from csv file\n",
    "data=pd.read_csv('data.csv')"
   ]
  },
  {
   "cell_type": "code",
   "execution_count": 79,
   "id": "ff0d2e7e",
   "metadata": {},
   "outputs": [
    {
     "data": {
      "text/plain": [
       "(70000, 784)"
      ]
     },
     "execution_count": 79,
     "metadata": {},
     "output_type": "execute_result"
    }
   ],
   "source": [
    "# Define Label as y and   DATA as X\n",
    "\n",
    "X=data.iloc[:,1:]\n",
    "y=data.iloc[:,0]\n",
    "X.shape"
   ]
  },
  {
   "cell_type": "code",
   "execution_count": 91,
   "id": "b6465bd0",
   "metadata": {},
   "outputs": [
    {
     "data": {
      "text/plain": [
       "(49000, 784)"
      ]
     },
     "execution_count": 91,
     "metadata": {},
     "output_type": "execute_result"
    }
   ],
   "source": [
    " # Split the data into a 70:30 train-test split\n",
    "X_train, X_test, y_train, y_test = train_test_split(X,y, test_size=0.3, random_state=6)\n",
    "\n",
    "X_train.shape"
   ]
  },
  {
   "cell_type": "code",
   "execution_count": 123,
   "id": "f669f1be",
   "metadata": {},
   "outputs": [],
   "source": [
    "# Define the neural network class\n",
    "class NeuralNetwork:\n",
    "    def __init__(self, input_size, hidden_size1, hidden_size2, hidden_size3, output_size, seed):\n",
    "        np.random.seed(seed)\n",
    "        self.weights1 = np.random.randn(input_size, hidden_size1)\n",
    "        self.bias1 = np.ones((1, hidden_size1))\n",
    "        self.weights2 = np.random.randn(hidden_size1, hidden_size2)\n",
    "        self.bias2 = np.ones((1, hidden_size2))\n",
    "        self.weights3 = np.random.randn(hidden_size2, hidden_size3)\n",
    "        self.bias3 = np.ones((1, hidden_size3))\n",
    "        self.weights_out = np.random.randn(hidden_size3, output_size)\n",
    "        self.bias_out = np.ones((1, output_size))\n",
    "\n",
    "    \n",
    "# Define Activation Functions    \n",
    "    def sigmoid(self, x):\n",
    "        return 1 / (1 + np.exp(-x))\n",
    "\n",
    "    def softmax(self, x):\n",
    "        exp_x = np.exp(x - np.max(x, axis=1, keepdims=True))\n",
    "        return exp_x / np.sum(exp_x, axis=1, keepdims=True)\n",
    "\n",
    "    \n",
    "# Define Forward System\n",
    "\n",
    "    def forward(self, X):\n",
    "        self.layer1_output = self.sigmoid(np.dot(X, self.weights1) + self.bias1)\n",
    "        self.layer2_output = self.sigmoid(np.dot(self.layer1_output, self.weights2) + self.bias2)\n",
    "        self.layer3_output = self.sigmoid(np.dot(self.layer2_output, self.weights3) + self.bias3)\n",
    "        self.output = self.softmax(np.dot(self.layer3_output, self.weights_out) + self.bias_out)\n",
    "        return self.output\n",
    "\n",
    "    \n",
    "#Define Backward Propogation     \n",
    "    \n",
    "    def backward(self, X, y, learning_rate):\n",
    "        m = X.shape[0]\n",
    "\n",
    "       \n",
    "    \n",
    "    # Calculate the gradients\n",
    "        \n",
    "        output_error = self.output - y\n",
    "        weights_out_gradient = np.dot(self.layer3_output.T, output_error)\n",
    "        bias_out_gradient = np.sum(output_error, axis=0, keepdims=True)\n",
    "\n",
    "        layer3_error = np.dot(output_error, self.weights_out.T) * self.layer3_output * (1 - self.layer3_output)\n",
    "        weights3_gradient = np.dot(self.layer2_output.T, layer3_error)\n",
    "        bias3_gradient = np.sum(layer3_error, axis=0, keepdims=True)\n",
    "\n",
    "        layer2_error = np.dot(layer3_error, self.weights3.T) * self.layer2_output * (1 - self.layer2_output)\n",
    "        weights2_gradient = np.dot(self.layer1_output.T, layer2_error)\n",
    "        bias2_gradient = np.sum(layer2_error, axis=0, keepdims=True)\n",
    "\n",
    "        layer1_error = np.dot(layer2_error, self.weights2.T) * self.layer1_output * (1 - self.layer1_output)\n",
    "        weights1_gradient = np.dot(X.T, layer1_error)\n",
    "        bias1_gradient = np.sum(layer1_error, axis=0, keepdims=True)\n",
    "\n",
    "       \n",
    "    \n",
    "    # Update weights and biases\n",
    "        self.weights_out -= learning_rate * weights_out_gradient / m\n",
    "        self.bias_out -= learning_rate * bias_out_gradient / m\n",
    "\n",
    "        self.weights3 -= learning_rate * weights3_gradient / m\n",
    "        self.bias3 -= learning_rate * bias3_gradient / m\n",
    "\n",
    "        self.weights2 -= learning_rate * weights2_gradient / m\n",
    "        self.bias2 -= learning_rate * bias2_gradient / m\n",
    "\n",
    "        self.weights1 -= learning_rate * weights1_gradient / m\n",
    "        self.bias1 -= learning_rate * bias1_gradient / m\n",
    "\n",
    "    \n",
    "    \n",
    "#Define Train Function    \n",
    "   \n",
    "    def train(self, X, y, epochs, learning_rate, batch_size):\n",
    "        m = X.shape[0]\n",
    "        history = {'accuracy': [], 'loss': []}\n",
    "\n",
    "        # Convert y to one-hot encoding\n",
    "        y_one_hot = np.eye(self.bias_out.shape[1])[y]\n",
    "\n",
    "        \n",
    "        # Training loop\n",
    "        for epoch in range(epochs):\n",
    "            for i in range(0, m, batch_size):\n",
    "                X_batch = X[i:i + batch_size]\n",
    "                y_batch = y_one_hot[i:i + batch_size]\n",
    "\n",
    "               \n",
    "            \n",
    "            # Forward pass\n",
    "                self.forward(X_batch)\n",
    "\n",
    "              \n",
    "            # Backward pass\n",
    "                self.backward(X_batch, y_batch, learning_rate)\n",
    "\n",
    "            \n",
    "            \n",
    "# Calculate and print accuracy and loss for each epoch\n",
    "            predictions = np.argmax(self.forward(X), axis=1)\n",
    "            accuracy = np.mean(predictions == y)\n",
    "            loss = -np.mean(np.sum(y_one_hot * np.log(self.output + 1e-8), axis=1))\n",
    "           \n",
    "        \n",
    "        # Append accuracy and loss to history\n",
    "            history['accuracy'].append(accuracy)\n",
    "            history['loss'].append(loss)\n",
    "\n",
    "            print(f'Epoch {epoch + 1}/{epochs}, Accuracy: {accuracy:.4f}, Loss: {loss:.4f}')\n",
    "\n",
    "        return history \n",
    "\n",
    "           \n",
    " #print(f'Epoch {epoch + 1}/{epochs}, Accuracy: {accuracy:.4f}, Loss: {loss:.4f}')\n",
    "\n",
    "    \n",
    "#Define Prediction Function    \n",
    "   \n",
    "    def predict(self, X):\n",
    "        return np.argmax(self.forward(X), axis=1)\n",
    "\n"
   ]
  },
  {
   "cell_type": "code",
   "execution_count": 125,
   "id": "62726f8a",
   "metadata": {},
   "outputs": [],
   "source": [
    "# Set the neural network parameters\n",
    "\n",
    "input_size = X_train.shape[1]\n",
    "output_size = 10  # Number of classes\n",
    "hidden_size1 = 128\n",
    "hidden_size2 = 64\n",
    "hidden_size3 = 32\n",
    "seed = 6  # As My Roll_no is P23CS006\n",
    "learning_rate = 0.01\n",
    "epochs = 25\n",
    "batch_size = 23"
   ]
  },
  {
   "cell_type": "code",
   "execution_count": 126,
   "id": "b7108757",
   "metadata": {},
   "outputs": [],
   "source": [
    "# Create neural network\n",
    "nn = NeuralNetwork(input_size, hidden_size1, hidden_size2, hidden_size3, output_size, seed)\n"
   ]
  },
  {
   "cell_type": "code",
   "execution_count": 127,
   "id": "bc980702",
   "metadata": {},
   "outputs": [
    {
     "name": "stderr",
     "output_type": "stream",
     "text": [
      "C:\\Users\\ravin\\AppData\\Local\\Temp\\ipykernel_4692\\1835679377.py:17: RuntimeWarning: overflow encountered in exp\n",
      "  return 1 / (1 + np.exp(-x))\n"
     ]
    },
    {
     "name": "stdout",
     "output_type": "stream",
     "text": [
      "Epoch 1/25, Accuracy: 0.4733, Loss: 1.4617\n",
      "Epoch 2/25, Accuracy: 0.5707, Loss: 1.1785\n",
      "Epoch 3/25, Accuracy: 0.6115, Loss: 1.0466\n",
      "Epoch 4/25, Accuracy: 0.6239, Loss: 0.9921\n",
      "Epoch 5/25, Accuracy: 0.6578, Loss: 0.9098\n",
      "Epoch 6/25, Accuracy: 0.6700, Loss: 0.8706\n",
      "Epoch 7/25, Accuracy: 0.6847, Loss: 0.8449\n",
      "Epoch 8/25, Accuracy: 0.6808, Loss: 0.8255\n",
      "Epoch 9/25, Accuracy: 0.7010, Loss: 0.7822\n",
      "Epoch 10/25, Accuracy: 0.6989, Loss: 0.7767\n",
      "Epoch 11/25, Accuracy: 0.7026, Loss: 0.7722\n",
      "Epoch 12/25, Accuracy: 0.7037, Loss: 0.7733\n",
      "Epoch 13/25, Accuracy: 0.7153, Loss: 0.7584\n",
      "Epoch 14/25, Accuracy: 0.7153, Loss: 0.7411\n",
      "Epoch 15/25, Accuracy: 0.7247, Loss: 0.7279\n",
      "Epoch 16/25, Accuracy: 0.7250, Loss: 0.7258\n",
      "Epoch 17/25, Accuracy: 0.7231, Loss: 0.7298\n",
      "Epoch 18/25, Accuracy: 0.7295, Loss: 0.7127\n",
      "Epoch 19/25, Accuracy: 0.7305, Loss: 0.7108\n",
      "Epoch 20/25, Accuracy: 0.7313, Loss: 0.6966\n",
      "Epoch 21/25, Accuracy: 0.7341, Loss: 0.6977\n",
      "Epoch 22/25, Accuracy: 0.7360, Loss: 0.6891\n",
      "Epoch 23/25, Accuracy: 0.7397, Loss: 0.6792\n",
      "Epoch 24/25, Accuracy: 0.7447, Loss: 0.6740\n",
      "Epoch 25/25, Accuracy: 0.7400, Loss: 0.6835\n",
      "Test Accuracy: 0.7310\n"
     ]
    }
   ],
   "source": [
    "# Train the neural network\n",
    "history=nn.train(X_train,y_train, epochs, learning_rate, batch_size)\n",
    "\n",
    "# Test the neural network\n",
    "predictions = nn.predict(X_test)\n",
    "accuracy = np.mean(predictions == y_test)\n",
    "print(f'Test Accuracy: {accuracy:.4f}')\n",
    "\n"
   ]
  },
  {
   "cell_type": "code",
   "execution_count": 130,
   "id": "bb8c3086",
   "metadata": {},
   "outputs": [
    {
     "data": {
      "image/png": "[encoded data removed]",
      "text/plain": [
       "<Figure size 640x480 with 1 Axes>"
      ]
     },
     "metadata": {},
     "output_type": "display_data"
    }
   ],
   "source": [
    "# Plot accuracy and loss per epoch\n",
    "\n",
    "\n",
    "plt.plot(history['accuracy'], label='Training Accuracy')\n",
    "plt.plot(history['loss'], label='Training Loss')\n",
    "plt.xlabel('Epoch')\n",
    "plt.legend()\n",
    "plt.show()"
   ]
  }
 ],
 "metadata": {
  "kernelspec": {
   "display_name": "Python 3 (ipykernel)",
   "language": "python",
   "name": "python3"
  },
  "language_info": {
   "codemirror_mode": {
    "name": "ipython",
    "version": 3
   },
   "file_extension": ".py",
   "mimetype": "text/x-python",
   "name": "python",
   "nbconvert_exporter": "python",
   "pygments_lexer": "ipython3",
   "version": "3.9.13"
  }
 },
 "nbformat": 4,
 "nbformat_minor": 5
}
